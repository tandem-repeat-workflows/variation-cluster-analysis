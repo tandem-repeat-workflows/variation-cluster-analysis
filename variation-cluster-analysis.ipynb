{
 "cells": [
  {
   "cell_type": "markdown",
   "id": "2c8cf0ac",
   "metadata": {},
   "source": [
    "# Tandem repeats in variation clusters"
   ]
  },
  {
   "cell_type": "markdown",
   "id": "1d36769e",
   "metadata": {},
   "source": [
    "## Authors\n",
    "\n",
    "- Egor Dolzhenko, PacBio\n",
    "- Ben Weisburd, Broad Institute"
   ]
  },
  {
   "cell_type": "markdown",
   "id": "21ad0cf2",
   "metadata": {},
   "source": [
    "## Introduction\n",
    "\n",
    "Tandem repeats are regions of the genome that consist of consecutive copies of some motif sequence. For example, CAGCAGCAG is a tandem repeats with motif CAG. Tandem repeats (TRs) can be broadly separated into (a) isolated TRs and (b) TRs in variation clusters (VCs). This notebook notebook describes how to perform this analysis."
   ]
  },
  {
   "cell_type": "markdown",
   "id": "4bf06b9e",
   "metadata": {},
   "source": [
    "## Prerequisites"
   ]
  },
  {
   "cell_type": "markdown",
   "id": "70479939",
   "metadata": {},
   "source": [
    "To prepare for this analysis, do the following:\n",
    "\n",
    "- Obtain between 20 and 100 PacBio HiFi WGS BAMs (for example, see https://registry.opendata.aws/hpgp-data/)\n",
    "- Install `vclust` tool (https://github.com/PacificBiosciences/vclust)\n",
    "- Install the latest version of bedtools: https://bedtools.readthedocs.io/en/latest/"
   ]
  },
  {
   "cell_type": "markdown",
   "id": "80cb5a9a",
   "metadata": {},
   "source": [
    "## Step 1: Annotate tandem repeats genome wide (or in the region of interest)\n",
    "\n",
    "The analysis steps are outlined in [a blog post here](https://bw2.github.io/2023-11-12-defining-genome-wide-TR-catalogs.html) (see the technical details section). You must convert the TRs annotations into BED file containing coordinates of each TR region and its motifs (column 4) as shown in the example below. Let's assume that this file is called `tr_annotations.bed`.\n",
    "\n",
    "```bash\n",
    "chr1    3815768 3815780 ACCTCC\n",
    "chr1    3815914 3815924 CTGC\n",
    "chr1    3817343 3817353 AAAC\n",
    "chr1    3817443 3817456 CTCTCA\n",
    "chr1    3817512 3817530 CAGCCC,CCCAG\n",
    "chr1    3817664 3817720 TCCCCC,CCTC\n",
    "chr1    3817789 3817817 GACAGTGGCA,GGCAG\n",
    "chr1    3818860 3818871 AATTG\n",
    "```"
   ]
  },
  {
   "cell_type": "markdown",
   "id": "4b352c7b",
   "metadata": {},
   "source": [
    "## Step 2: Extend the boundaries of each repeat in your catalog"
   ]
  },
  {
   "cell_type": "markdown",
   "id": "6faa765d",
   "metadata": {},
   "source": [
    "You are now ready to run the `vclust` tool. It will extend each region in your catalog to incorporate\n",
    "variation that it identifies around the TR in your HiFi BAM files:\n",
    "\n",
    "```bash\n",
    "./vclust --genome genome.fa --reads bams/*.bam --regions raw_trs.bed > extended_trs.txt\n",
    "```\n",
    "\n",
    "where `genome.fa` is the reference genome, `bams/*.bam` are the HiFi BAMs you wish to analyze, `raw_trs.bed` is your repeat catalog from the previous step, and finally `extended_trs.txt` is the output file with information about the extension of each region based on the surrounding variation. Note that `vclust` is a single-threaded application and can be slow to run on large repeat catalogs. To speed up execution, you can split the input file into multiple pieces, analyze each one separately, and them merge the results.\n",
    "\n",
    "Now you can convert the output of `vlust` command into a BED file."
   ]
  },
  {
   "cell_type": "code",
   "execution_count": 24,
   "id": "60bf0a8c",
   "metadata": {},
   "outputs": [],
   "source": [
    "%%bash\n",
    "\n",
    "grep -v \"NA\" extended_trs.txt | awk '$3 > 5 || $4 > 5' \\\n",
    "    | awk '{OFS=\"\\t\"; print $5, $1}' | awk -F \"[\\t:-]\" '{OFS=\"\\t\"; print $1, $2, $3, $0}' \\\n",
    "    | cut -f 1-3,5 | sort -k 1,1 -k 2,2n -k 3,3n | bedtools merge -d -1 -c 4 -o distinct \\\n",
    "    | awk '{OFS=\"\\t\"; print $1, $2, $3, \"ID=\"$1\"_\"$2\"_\"$3\";MOTIFS=\"$4\";STRUC=<TR>\"}' \\\n",
    "    > vcs.bed"
   ]
  },
  {
   "cell_type": "code",
   "execution_count": 25,
   "id": "6907d68a",
   "metadata": {},
   "outputs": [
    {
     "name": "stdout",
     "output_type": "stream",
     "text": [
      "chr1\t54712\t54817\tID=chr1_54712_54817;MOTIFS=TTCT,TTTC;STRUC=<TR>\r\n",
      "chr1\t66160\t66415\tID=chr1_66160_66415;MOTIFS=ATATA,TA,TATAT;STRUC=<TR>\r\n",
      "chr1\t83797\t84052\tID=chr1_83797_84052;MOTIFS=AAAG,AAGC,AG,AGAA,GAAA;STRUC=<TR>\r\n",
      "chr1\t90258\t90431\tID=chr1_90258_90431;MOTIFS=GTCCCTCTGTCTCTGCCAACCAGTTAACCTGCTGCTTCCTGGAGGAAGACAGTCCCTCT;STRUC=<TR>\r\n",
      "chr1\t98999\t99116\tID=chr1_98999_99116;MOTIFS=T,TTTA;STRUC=<TR>\r\n",
      "chr1\t135166\t135184\tID=chr1_135166_135184;MOTIFS=GAGGCC;STRUC=<TR>\r\n",
      "chr1\t136322\t137049\tID=chr1_136322_137049;MOTIFS=CTGACCTCTCTCAGCGTGGGAGGGGCCGGTGTGAGGCAAGGGGCTCGGG,GCGTGGGAGGGGCCGGTGTGAGGCAAGGGGCTCAGGCTGACCTCTGTCC;STRUC=<TR>\r\n",
      "chr1\t143740\t143763\tID=chr1_143740_143763;MOTIFS=TGC;STRUC=<TR>\r\n",
      "chr1\t146569\t146584\tID=chr1_146569_146584;MOTIFS=TC;STRUC=<TR>\r\n",
      "chr1\t151295\t151331\tID=chr1_151295_151331;MOTIFS=TTTC;STRUC=<TR>\r\n"
     ]
    }
   ],
   "source": [
    "! head vcs.bed"
   ]
  },
  {
   "cell_type": "code",
   "execution_count": null,
   "id": "01b6f00f",
   "metadata": {},
   "outputs": [],
   "source": []
  },
  {
   "cell_type": "code",
   "execution_count": null,
   "id": "e9f8cd42",
   "metadata": {},
   "outputs": [],
   "source": []
  },
  {
   "cell_type": "code",
   "execution_count": null,
   "id": "fd8749ea",
   "metadata": {},
   "outputs": [],
   "source": []
  }
 ],
 "metadata": {
  "kernelspec": {
   "display_name": "Python 3 (ipykernel)",
   "language": "python",
   "name": "python3"
  },
  "language_info": {
   "codemirror_mode": {
    "name": "ipython",
    "version": 3
   },
   "file_extension": ".py",
   "mimetype": "text/x-python",
   "name": "python",
   "nbconvert_exporter": "python",
   "pygments_lexer": "ipython3",
   "version": "3.10.8"
  }
 },
 "nbformat": 4,
 "nbformat_minor": 5
}
