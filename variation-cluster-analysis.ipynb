{
 "cells": [
  {
   "cell_type": "markdown",
   "id": "2c8cf0ac",
   "metadata": {},
   "source": [
    "# Tandem repeats in variation clusters"
   ]
  },
  {
   "cell_type": "markdown",
   "id": "1d36769e",
   "metadata": {},
   "source": [
    "## Authors\n",
    "\n",
    "- Egor Dolzhenko, PacBio\n",
    "- Ben Weisburd, Broad Institute"
   ]
  },
  {
   "cell_type": "markdown",
   "id": "21ad0cf2",
   "metadata": {},
   "source": [
    "## Introduction\n",
    "\n",
    "Tandem repeats are regions of the genome that consist of consecutive copies of some motif sequence. For example, CAGCAGCAG is a tandem repeats with motif CAG. Tandem repeats (TRs) can be broadly separated into (a) isolated TRs and (b) TRs in variation clusters (VCs). This notebook notebook describes how to perform this analysis."
   ]
  },
  {
   "cell_type": "markdown",
   "id": "4bf06b9e",
   "metadata": {},
   "source": [
    "## Prerequisites"
   ]
  },
  {
   "cell_type": "markdown",
   "id": "70479939",
   "metadata": {},
   "source": [
    "To prepare for this analysis, do the following:\n",
    "\n",
    "- Obtain between 20 and 100 PacBio HiFi WGS BAMs (for example, see https://registry.opendata.aws/hpgp-data/)\n",
    "- Install `vclust` tool (https://github.com/PacificBiosciences/vclust)\n",
    "- Install the latest version of bedtools: https://bedtools.readthedocs.io/en/latest/"
   ]
  },
  {
   "cell_type": "markdown",
   "id": "80cb5a9a",
   "metadata": {},
   "source": [
    "## Step 1: Annotate tandem repeats genome wide (or in the region of interest)\n",
    "\n",
    "The analysis steps are outlined in [a blog post here](https://bw2.github.io/2023-11-12-defining-genome-wide-TR-catalogs.html) (see the technical details section). You must convert the TRs annotations into BED file containing coordinates of each TR region and its motifs (column 4) as shown in the example below. Let's assume that this file is called `tr_annotations.bed`.\n",
    "\n",
    "```bash\n",
    "%% head tr_annotations.bed\n",
    "chr1    3815768 3815780 ACCTCC\n",
    "chr1    3815914 3815924 CTGC\n",
    "chr1    3817343 3817353 AAAC\n",
    "chr1    3817443 3817456 CTCTCA\n",
    "chr1    3817512 3817530 CAGCCC,CCCAG\n",
    "chr1    3817664 3817720 TCCCCC,CCTC\n",
    "chr1    3817789 3817817 GACAGTGGCA,GGCAG\n",
    "chr1    3818860 3818871 AATTG\n",
    "```"
   ]
  },
  {
   "cell_type": "markdown",
   "id": "4b352c7b",
   "metadata": {},
   "source": [
    "## Step 2: Extend the boundaries of each repeat in your catalog"
   ]
  },
  {
   "cell_type": "markdown",
   "id": "6faa765d",
   "metadata": {},
   "source": [
    "You are now ready to run the `vclust` tool extends on your catalog:\n",
    "\n",
    "```bash\n",
    "./vclust --genome genome.fa --reads bams/*.bam --regions raw_trs.bed > extended_trs.txt\n",
    "```\n",
    "\n",
    "where `genome.fa` is the reference genome, `bams/*.bam` are the HiFi BAMs you wish to analyze, `raw_trs.bed` is your repeat catalog from the previous step, and finally `extended_trs.txt` is the output file with information about the extension of each region based on the surrounding variation. Note that `vclust` is a single-threaded application and can be slow to run on large repeat catalogs. To speed up execution, you can split the input file into multiple pieces, analyze each one separately, and them merge the results.\n",
    "\n",
    "Now you can convert the output of `vlust` command into a BED file."
   ]
  },
  {
   "cell_type": "code",
   "execution_count": null,
   "id": "ae49f765",
   "metadata": {},
   "outputs": [],
   "source": []
  },
  {
   "cell_type": "code",
   "execution_count": 4,
   "id": "60bf0a8c",
   "metadata": {},
   "outputs": [],
   "source": [
    "%%bash\n",
    "\n",
    "grep -v \"NA\" extended_trs.txt | awk '$3 > 5 || $4 > 5' \\\n",
    "    | awk '{OFS=\"\\t\"; print $5, $1}' | awk -F \"[\\t:-]\" '{OFS=\"\\t\"; print $1, $2, $3, $0}' \\\n",
    "    | cut -f 1-3,5 | sort -k 1,1 -k 2,2n -k 3,3n | bedtools merge -d -1 -c 4 -o collapse \\\n",
    "    > raw_vcs.bed"
   ]
  },
  {
   "cell_type": "markdown",
   "id": "63bd7651",
   "metadata": {},
   "source": [
    "## Step 3: Merge variation clusters"
   ]
  },
  {
   "cell_type": "code",
   "execution_count": 5,
   "id": "f6584b01",
   "metadata": {},
   "outputs": [
    {
     "ename": "IndexError",
     "evalue": "list index out of range",
     "output_type": "error",
     "traceback": [
      "\u001b[0;31m---------------------------------------------------------------------------\u001b[0m",
      "\u001b[0;31mIndexError\u001b[0m                                Traceback (most recent call last)",
      "Cell \u001b[0;32mIn[5], line 23\u001b[0m\n\u001b[1;32m     21\u001b[0m \u001b[38;5;28;01mfor\u001b[39;00m rec \u001b[38;5;129;01min\u001b[39;00m infile:\n\u001b[1;32m     22\u001b[0m     chrom, start, end, names \u001b[38;5;241m=\u001b[39m rec\u001b[38;5;241m.\u001b[39msplit()\n\u001b[0;32m---> 23\u001b[0m     name \u001b[38;5;241m=\u001b[39m \u001b[43mmerge_names\u001b[49m\u001b[43m(\u001b[49m\u001b[43mnames\u001b[49m\u001b[43m)\u001b[49m\n\u001b[1;32m     24\u001b[0m     \u001b[38;5;28mprint\u001b[39m(\u001b[38;5;124mf\u001b[39m\u001b[38;5;124m\"\u001b[39m\u001b[38;5;132;01m{\u001b[39;00mchrom\u001b[38;5;132;01m}\u001b[39;00m\u001b[38;5;130;01m\\t\u001b[39;00m\u001b[38;5;132;01m{\u001b[39;00mstart\u001b[38;5;132;01m}\u001b[39;00m\u001b[38;5;130;01m\\t\u001b[39;00m\u001b[38;5;132;01m{\u001b[39;00mend\u001b[38;5;132;01m}\u001b[39;00m\u001b[38;5;130;01m\\t\u001b[39;00m\u001b[38;5;132;01m{\u001b[39;00mname\u001b[38;5;132;01m}\u001b[39;00m\u001b[38;5;124m\"\u001b[39m, file\u001b[38;5;241m=\u001b[39moutfile)\n",
      "Cell \u001b[0;32mIn[5], line 9\u001b[0m, in \u001b[0;36mmerge_names\u001b[0;34m(names)\u001b[0m\n\u001b[1;32m      7\u001b[0m \u001b[38;5;28;01mfor\u001b[39;00m name \u001b[38;5;129;01min\u001b[39;00m names:\n\u001b[1;32m      8\u001b[0m     trid \u001b[38;5;241m=\u001b[39m name\u001b[38;5;241m.\u001b[39msplit(\u001b[38;5;124m\"\u001b[39m\u001b[38;5;124m;\u001b[39m\u001b[38;5;124m\"\u001b[39m)[\u001b[38;5;241m0\u001b[39m]\u001b[38;5;241m.\u001b[39mreplace(\u001b[38;5;124m\"\u001b[39m\u001b[38;5;124mID=\u001b[39m\u001b[38;5;124m\"\u001b[39m, \u001b[38;5;124m\"\u001b[39m\u001b[38;5;124m\"\u001b[39m)\n\u001b[0;32m----> 9\u001b[0m     tr_motifs \u001b[38;5;241m=\u001b[39m \u001b[43mname\u001b[49m\u001b[38;5;241;43m.\u001b[39;49m\u001b[43msplit\u001b[49m\u001b[43m(\u001b[49m\u001b[38;5;124;43m\"\u001b[39;49m\u001b[38;5;124;43m;\u001b[39;49m\u001b[38;5;124;43m\"\u001b[39;49m\u001b[43m)\u001b[49m\u001b[43m[\u001b[49m\u001b[38;5;241;43m1\u001b[39;49m\u001b[43m]\u001b[49m\u001b[38;5;241m.\u001b[39mreplace(\u001b[38;5;124m\"\u001b[39m\u001b[38;5;124mMOTIFS=\u001b[39m\u001b[38;5;124m\"\u001b[39m, \u001b[38;5;124m\"\u001b[39m\u001b[38;5;124m\"\u001b[39m)\u001b[38;5;241m.\u001b[39msplit(\u001b[38;5;124m\"\u001b[39m\u001b[38;5;124m,\u001b[39m\u001b[38;5;124m\"\u001b[39m)\n\u001b[1;32m     10\u001b[0m     ids\u001b[38;5;241m.\u001b[39mappend(trid)\n\u001b[1;32m     11\u001b[0m     motifs\u001b[38;5;241m.\u001b[39mextend(tr_motifs)\n",
      "\u001b[0;31mIndexError\u001b[0m: list index out of range"
     ]
    }
   ],
   "source": [
    "def merge_names(names):\n",
    "    if \",\" not in names:\n",
    "        return names\n",
    "    names = names.split(\",\")\n",
    "    ids = []\n",
    "    motifs = []\n",
    "    for name in names:\n",
    "        trid = name.split(\";\")[0].replace(\"ID=\", \"\")\n",
    "        tr_motifs = name.split(\";\")[1].replace(\"MOTIFS=\", \"\").split(\",\")\n",
    "        ids.append(trid)\n",
    "        motifs.extend(tr_motifs)\n",
    "    assert len(ids) == len(set(ids))\n",
    "    ids = \",\".join(ids)\n",
    "    motifs = list(set(motifs))\n",
    "    struc = \"\".join([f\"({motif})n\" for motif in motifs])\n",
    "    motifs = \",\".join(motifs)\n",
    "    return f\"ID={ids};MOTIFS={motifs};STRUC={struc}\"\n",
    "\n",
    "\n",
    "with open(\"raw_vcs.bed\", \"r\") as infile, open(\"vcs.bed\", \"w\") as outfile:\n",
    "    for rec in infile:\n",
    "        chrom, start, end, names = rec.split()\n",
    "        name = merge_names(names)\n",
    "        print(f\"{chrom}\\t{start}\\t{end}\\t{name}\", file=outfile)"
   ]
  },
  {
   "cell_type": "code",
   "execution_count": null,
   "id": "d52abbae",
   "metadata": {},
   "outputs": [],
   "source": [
    "! wc -l output/vcs.bed"
   ]
  },
  {
   "cell_type": "code",
   "execution_count": null,
   "id": "fd8749ea",
   "metadata": {},
   "outputs": [],
   "source": []
  }
 ],
 "metadata": {
  "kernelspec": {
   "display_name": "Python 3 (ipykernel)",
   "language": "python",
   "name": "python3"
  },
  "language_info": {
   "codemirror_mode": {
    "name": "ipython",
    "version": 3
   },
   "file_extension": ".py",
   "mimetype": "text/x-python",
   "name": "python",
   "nbconvert_exporter": "python",
   "pygments_lexer": "ipython3",
   "version": "3.10.8"
  }
 },
 "nbformat": 4,
 "nbformat_minor": 5
}
